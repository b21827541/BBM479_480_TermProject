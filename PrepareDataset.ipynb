{
 "cells": [
  {
   "cell_type": "markdown",
   "id": "a7aebbde",
   "metadata": {},
   "source": [
    "# Note:\n",
    "This codes about data preparation part and sample code. We can a lot of change on the code while working our local computers but also these codes give information about our implementation details."
   ]
  },
  {
   "cell_type": "markdown",
   "id": "fcbb0b17",
   "metadata": {},
   "source": [
    "## Extract Frame From Videos"
   ]
  },
  {
   "cell_type": "code",
   "execution_count": null,
   "id": "59a8826d",
   "metadata": {},
   "outputs": [],
   "source": [
    "import cv2\n",
    "import os\n",
    "import glob\n",
    "videos = glob.glob(\"C:/BitirmeProjesi/Normal/*.mp4\")\n",
    "\n",
    "\n",
    "for i in videos:\n",
    "    os.mkdir(\"C:/BitirmeProjesi/NormalFrames/video\"+(str(i).split(\"\\\\\"))[1].split(\".\")[0]) \n",
    "    vidcap = cv2.VideoCapture(i)\n",
    "    success,image = vidcap.read()\n",
    "    count = 1\n",
    "    writer = 1\n",
    "    while success:\n",
    "        if(count!=1 and count%2==1):\n",
    "            \n",
    "            cv2.imwrite(\"C:/BitirmeProjesi/NormalFrames/video\"+(str(i).split(\"\\\\\"))[1].split(\".\")[0]+\"/frame\"+str(writer)+\".jpg\", image)\n",
    "            writer +=1    \n",
    "        success,image = vidcap.read()\n",
    "        print('Read a new frame: ', success)\n",
    "        count += 1"
   ]
  },
  {
   "cell_type": "markdown",
   "id": "26cd69cf",
   "metadata": {},
   "source": [
    "## Create Labels From File"
   ]
  },
  {
   "cell_type": "code",
   "execution_count": null,
   "id": "994e7aa1",
   "metadata": {},
   "outputs": [],
   "source": [
    "import glob\n",
    "import numpy as np\n",
    "from numpy import savez_compressed\n",
    "import os\n",
    "\n",
    "\n",
    "\n",
    "labelFilePath = \"Labels File Path Here\"\n",
    "labels = np.arange(60000)\n",
    "labels.fill(0)\n",
    "k = 1\n",
    "for i in range(1500):\n",
    "    data1 = np.load(labelFilePath+\"label\"+str(k)+\".npz\",allow_pickle = True)\n",
    "    array1 = data1[data1.files[0]]\n",
    "    for j in range(4,24):\n",
    "        labels = np.concatenate((labels,np.array([array1[j]])),axis = 0)\n",
    "    k+=1\n",
    "savez_compressed(\"Target File Path Here\",labels)"
   ]
  },
  {
   "cell_type": "markdown",
   "id": "9ead5444",
   "metadata": {},
   "source": [
    "## Concatenate YOLO And Optical Flow"
   ]
  },
  {
   "cell_type": "code",
   "execution_count": null,
   "id": "0b153d7f",
   "metadata": {},
   "outputs": [],
   "source": [
    "import glob\n",
    "import numpy as np\n",
    "from numpy import savez_compressed\n",
    "import os"
   ]
  },
  {
   "cell_type": "code",
   "execution_count": null,
   "id": "04d5332c",
   "metadata": {},
   "outputs": [],
   "source": [
    "opticalFlowFilePath = \"Optical Flow File Path Here\"\n",
    "opticalFlowFiles = glob.glob(opticalFlowFilePath)\n",
    "\n",
    "yoloFilePath = \"Yolo File Path Here\"\n",
    "yoloFiles = glob.glob(opticalFlowFilePath)"
   ]
  },
  {
   "cell_type": "code",
   "execution_count": null,
   "id": "771d64b2",
   "metadata": {},
   "outputs": [],
   "source": [
    "for i in opticalFlowFiles:\n",
    "    copyFile1 = i\n",
    "    videoNames = copyFile1.split(\"\\\\\")[-1]\n",
    "    subFiles = glob.glob(i+\"\\\\*\")\n",
    "    for j in subFiles:\n",
    "        copyFile2 = j\n",
    "        frameName = copyFile2.split(\"\\\\\")[-1]\n",
    "        opticalArray = np.load(j,allow_pickle = True)\n",
    "        opticalArrayData = opticalArray[opticalArray.files[0]]\n",
    "        yoloArray = np.load(yoloFilePath+videoNames+\"\\\\\"+frameName,allow_pickle = True)\n",
    "        yoloArrayData = yoloArray[yoloArray.files[0]]\n",
    "        opticalArrayData = opticalArrayData.flatten()\n",
    "        yoloArrayData = yoloArrayData.flatten()\n",
    "        opticalArrayData = opticalArrayData.tolist()\n",
    "        yoloArrayData = yoloArrayData.tolist()\n",
    "        opticalArrayData=(opticalArrayData + yoloArrayData)\n",
    "        try:\n",
    "            os.mkdir(\"Target File Path Here\"+videoNames)\n",
    "        except FileExistsError:\n",
    "            pass\n",
    "        savez_compressed(\"Target File Path Here\"+videoNames+\"\\\\\"+frameName,opticalArrayData)"
   ]
  },
  {
   "cell_type": "markdown",
   "id": "85e0e9d0",
   "metadata": {},
   "source": [
    "# Concatenate Frames 5 by 5 And Create Datas Include 5 frames"
   ]
  },
  {
   "cell_type": "code",
   "execution_count": null,
   "id": "cc0a8159",
   "metadata": {},
   "outputs": [],
   "source": [
    "import glob\n",
    "import numpy as np\n",
    "from numpy import savez_compressed\n",
    "import os\n",
    "\n",
    "labelFilePath = \"Labels File Path Here\"\n",
    "filesPath = glob.glob(labelFilePath)\n",
    "filesPath[0]\n",
    "\n",
    "dataCounter = 1\n",
    "for video in filesPath:\n",
    "    for i in range(1,21):\n",
    "        data = np.load(video+\"\\\\frame\"+str(i)+\".npz\",allow_pickle = True)\n",
    "        data = data[data.files[0]]\n",
    "        for j in range(i+1,i+5):\n",
    "            newData = np.load(video+\"\\\\frame\"+str(j)+\".npz\",allow_pickle = True)\n",
    "            newData = newData[newData.files[0]]\n",
    "            data = np.concatenate((data,newData),axis = 0)\n",
    "        savez_compressed(\"Target File Path Here\"+str(dataCounter),data)\n",
    "        dataCounter = dataCounter + 1"
   ]
  },
  {
   "cell_type": "markdown",
   "id": "ee109976",
   "metadata": {},
   "source": [
    "## Create Final Data Which Includes Data Inside 5 Frames"
   ]
  },
  {
   "cell_type": "code",
   "execution_count": null,
   "id": "958f1fea",
   "metadata": {},
   "outputs": [],
   "source": [
    "import glob\n",
    "import numpy as np\n",
    "from numpy import savez_compressed\n",
    "import os\n",
    "\n",
    "labelFilePath = \"Data Fiel Path Here\"\n",
    "\n",
    "def concatenater(a,b,k,labelFilePath):\n",
    "    DATA = []\n",
    "    for i in range(a,b):\n",
    "        \n",
    "        data1 = np.load(labelFilePath+\"data\"+str(i)+\".npz\",allow_pickle = True)\n",
    "        data1 = data1[data1.files[0]]\n",
    "        DATA.append(data1)\n",
    "    savez_compressed(labelFilePath+\"DATA_\"+str(k),DATA)\n",
    "    \n",
    "for i in range(180):\n",
    "    concatenater(0+500*i,500+500*i,i,labelFilePath)"
   ]
  },
  {
   "cell_type": "markdown",
   "id": "0cb07fc7",
   "metadata": {},
   "source": [
    "## Extract Optical Flow From Videos"
   ]
  },
  {
   "cell_type": "code",
   "execution_count": null,
   "id": "531cce27",
   "metadata": {},
   "outputs": [],
   "source": [
    "model = VGG16() #for feat extract\n",
    "model = Model(inputs=model.inputs, outputs=model.layers[-2].output)\n",
    "def feat_extract(im):\n",
    "    x = preprocess_input(im)\n",
    "    features = model.predict(x)\n",
    "    return features"
   ]
  },
  {
   "cell_type": "code",
   "execution_count": null,
   "id": "0cf0bed3",
   "metadata": {},
   "outputs": [],
   "source": [
    "def denseOF(videoID):\n",
    "    cap = cv.VideoCapture(videoLoc)\n",
    "    ret, frame = cap.read() #get frames from vidya\n",
    "    framegray = cv.cvtColor(frame, cv.COLOR_BGR2GRAY)\n",
    "    hsv = np.zeros_like(frame)\n",
    "    hsv[..., 1] = 244\n",
    "    \n",
    "    try:\n",
    "        while(1):\n",
    "            ret = cap.grab()\n",
    "            ret, frame = cap.retrieve() # decode the frame\n",
    "            if ret: \n",
    "                ret2, frame2 = cap.read()\n",
    "                nxt = cv.cvtColor(frame2, cv.COLOR_BGR2GRAY)\n",
    "                flow = cv.calcOpticalFlowFarneback(framegray, nxt, None, 0.5, 3, 15, 3, 5, 1.2, 0)\n",
    "                mag, ang = cv.cartToPolar(flow[..., 0], flow[..., 1])\n",
    "\n",
    "                hsv[..., 0] = ang * 180 / np.pi / 2\n",
    "                hsv[..., 2] = cv.normalize(mag, None, 0, 255, cv.NORM_MINMAX)\n",
    "\n",
    "                rgb = cv.cvtColor(hsv, cv.COLOR_HSV2BGR)\n",
    "                systemVertical = np.concatenate((frame2, rgb), axis=1)\n",
    "\n",
    "                magnitudeList = np.asarray(mag)\n",
    "                orientationList = np.asarray(ang)\n",
    "                magorientList = mag *ang\n",
    "                \n",
    "                orientationList = np.resize(orientationList, (224, 224, 3) )\n",
    "\n",
    "                transformedImage2 = np.expand_dims(orientationList, axis = 0)  \n",
    "                \n",
    "                feats2 = feat_extract(transformedImage2)\n",
    "            \n",
    "                savez_compressed(frameLoc2, feats2)\n",
    "                \n",
    "                framegray = nxt\n",
    "                if cv.waitKey(1) & 0xFF == ord('q'):\n",
    "                    break\n",
    "            else:\n",
    "                return\n",
    "    except:\n",
    "        cap.release()\n",
    "        cv.destroyAllWindows()"
   ]
  }
 ],
 "metadata": {
  "kernelspec": {
   "display_name": "Python 3",
   "language": "python",
   "name": "python3"
  },
  "language_info": {
   "codemirror_mode": {
    "name": "ipython",
    "version": 3
   },
   "file_extension": ".py",
   "mimetype": "text/x-python",
   "name": "python",
   "nbconvert_exporter": "python",
   "pygments_lexer": "ipython3",
   "version": "3.8.8"
  }
 },
 "nbformat": 4,
 "nbformat_minor": 5
}
