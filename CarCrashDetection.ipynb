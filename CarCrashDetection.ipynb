{
 "cells": [
  {
   "cell_type": "markdown",
   "metadata": {
    "id": "lR8AOvtD0_0B"
   },
   "source": [
    "# **BBM479-480 Final Project**<br>\n",
    "## **Anomaly Detection on Car Crashes**<br><br>\n",
    "\n",
    "**Alperen Tastekin 21727757**<br>\n",
    "**Berk Karaimer 21827541**<br>\n"
   ]
  },
  {
   "cell_type": "code",
   "execution_count": 1,
   "metadata": {
    "colab": {
     "base_uri": "https://localhost:8080/"
    },
    "id": "dWobi_pkb-qU",
    "outputId": "2accfe06-a14d-4613-f44f-031ba8fbe423"
   },
   "outputs": [
    {
     "ename": "ModuleNotFoundError",
     "evalue": "No module named 'google.colab'",
     "output_type": "error",
     "traceback": [
      "\u001b[1;31m---------------------------------------------------------------------------\u001b[0m",
      "\u001b[1;31mModuleNotFoundError\u001b[0m                       Traceback (most recent call last)",
      "\u001b[1;32m<ipython-input-1-bf1647b42bbd>\u001b[0m in \u001b[0;36m<module>\u001b[1;34m\u001b[0m\n\u001b[1;32m----> 1\u001b[1;33m \u001b[1;32mfrom\u001b[0m \u001b[0mgoogle\u001b[0m\u001b[1;33m.\u001b[0m\u001b[0mcolab\u001b[0m \u001b[1;32mimport\u001b[0m \u001b[0mdrive\u001b[0m\u001b[1;33m\u001b[0m\u001b[1;33m\u001b[0m\u001b[0m\n\u001b[0m\u001b[0;32m      2\u001b[0m \u001b[0mdrive\u001b[0m\u001b[1;33m.\u001b[0m\u001b[0mmount\u001b[0m\u001b[1;33m(\u001b[0m\u001b[1;34m\"/content/drive\"\u001b[0m\u001b[1;33m)\u001b[0m\u001b[1;33m\u001b[0m\u001b[1;33m\u001b[0m\u001b[0m\n",
      "\u001b[1;31mModuleNotFoundError\u001b[0m: No module named 'google.colab'"
     ]
    }
   ],
   "source": [
    "from google.colab import drive\n",
    "drive.mount(\"/content/drive\")"
   ]
  },
  {
   "cell_type": "code",
   "execution_count": 2,
   "metadata": {
    "id": "1U8l5-eFlr33"
   },
   "outputs": [],
   "source": [
    "import numpy as np\n",
    "import os\n",
    "import matplotlib.pyplot as plt\n",
    "import pandas as pd\n",
    "import tensorflow as tf\n",
    "from tensorflow.keras import layers\n",
    "from tensorflow import keras\n",
    "from tensorflow.keras.models import Sequential\n",
    "from tensorflow.keras.layers import Dense, Dropout, SimpleRNN,BatchNormalization,LSTM\n",
    "from sklearn.model_selection import train_test_split\n",
    "from sklearn.metrics import confusion_matrix\n",
    "from sklearn import preprocessing\n",
    "from keras.wrappers.scikit_learn import KerasClassifier\n",
    "from sklearn.model_selection import cross_val_score\n",
    "from sklearn.model_selection import StratifiedKFold\n",
    "from sklearn.metrics import confusion_matrix, plot_confusion_matrix,f1_score\n",
    "import warnings\n",
    "warnings.filterwarnings('ignore')"
   ]
  },
  {
   "cell_type": "code",
   "execution_count": 3,
   "metadata": {
    "id": "D4r_34OLVY9R"
   },
   "outputs": [],
   "source": [
    "def loadDatasetAndLabels(datasetFilePath,labelFilePath,includeYOLOFlag):\n",
    "  dataset = np.load(datasetFilePath,allow_pickle = True)\n",
    "  dataset = dataset[dataset.files[0]]\n",
    "  labels = np.load(labelFilePath,allow_pickle = True)\n",
    "  labels = labels[labels.files[0]]\n",
    "  if(includeYOLOFlag):\n",
    "    dataset = dataset.reshape(70000,5,4099)\n",
    "    part1 = labels[:30000]\n",
    "    part2 = labels[45000:85000]\n",
    "    labels = np.concatenate((part1,part2),axis = 0)\n",
    "    return dataset,labels\n",
    "  dataset = dataset.reshape(90000,5,4096)\n",
    "  return dataset,labels"
   ]
  },
  {
   "cell_type": "code",
   "execution_count": 4,
   "metadata": {
    "id": "IsOyL9KxXXYB"
   },
   "outputs": [],
   "source": [
    "def findAndDropNA(dataset,labels):\n",
    "  indexOfNA = []\n",
    "  np.argwhere(np.isnan(dataset))\n",
    "  for i in np.argwhere(np.isnan(dataset)):\n",
    "    if(i[0] not in indexOfNA):\n",
    "      indexOfNA.append(i[0])  \n",
    "  #print(\"Found \",len(indexOfNA),\" NA elements\")\n",
    "  '''\n",
    "  for i in indexOfNA:\n",
    "    zeroArray = np.zeros((5,4099),dtype = int)\n",
    "    zeroArray = zeroArray.astype('float64')\n",
    "    dataset[i] = zeroArray\n",
    "  '''\n",
    "  dataset = np.delete(dataset,indexOfNA,0)\n",
    "  labels = np.delete(labels,indexOfNA,0)\n",
    "  \n",
    "  return dataset,labels"
   ]
  },
  {
   "cell_type": "code",
   "execution_count": 5,
   "metadata": {
    "id": "4TXtzv6RYHO0"
   },
   "outputs": [],
   "source": [
    "def normalizeDataset(dataset,includeYOLOFlag):\n",
    "  normalizedDataset = dataset\n",
    "  for i in normalizedDataset:\n",
    "    i=i.flatten()\n",
    "    i = preprocessing.normalize([i])\n",
    "    if(includeYOLOFlag):\n",
    "      i=i.reshape((5,4099))\n",
    "    else:\n",
    "      i=i.reshape((5,4096))\n",
    "  return normalizedDataset"
   ]
  },
  {
   "cell_type": "code",
   "execution_count": 6,
   "metadata": {
    "id": "lUT4ybjZlVJx"
   },
   "outputs": [],
   "source": [
    "def binaryPredictions(model,testData):\n",
    "  predictions= model.predict(testData)\n",
    "  predictions = predictions.flatten()\n",
    "  for i in range(len(predictions)):\n",
    "    if(predictions[i]<=0.5):\n",
    "      predictions[i]=0\n",
    "    else:\n",
    "      predictions[i]=1\n",
    "  predictions = np.array(predictions,dtype=int)\n",
    "  return predictions\n",
    "  "
   ]
  },
  {
   "cell_type": "code",
   "execution_count": 7,
   "metadata": {
    "id": "OgWBwImTmtIc"
   },
   "outputs": [],
   "source": [
    "def visualizeTrainResults(trainHistory):\n",
    "  plt.plot(trainHistory.history['accuracy'])\n",
    "  plt.plot(trainHistory.history['val_accuracy'])\n",
    "  plt.title('Model Train Accuracy')\n",
    "  plt.ylabel('Accuracy')\n",
    "  plt.xlabel('Epoch')\n",
    "  plt.legend(['Train', 'Validation'], loc='upper left')\n",
    "  plt.show()\n",
    "  # summarize history for loss\n",
    "  plt.plot(trainHistory.history['loss'])\n",
    "  plt.plot(trainHistory.history['val_loss'])\n",
    "  plt.title('Model Train Loss')\n",
    "  plt.ylabel('Loss')\n",
    "  plt.xlabel('Epoch')\n",
    "  plt.legend(['Train', 'Validation'], loc='upper left')\n",
    "  plt.show()"
   ]
  },
  {
   "cell_type": "markdown",
   "metadata": {},
   "source": [
    "## Dataset Without YOLO and Magnitude Optical Flow"
   ]
  },
  {
   "cell_type": "code",
   "execution_count": 9,
   "metadata": {
    "colab": {
     "base_uri": "https://localhost:8080/"
    },
    "id": "AqhghBJ0V4zW",
    "outputId": "2b94d143-035b-49b2-cc41-0588a13e1f4d"
   },
   "outputs": [
    {
     "name": "stdout",
     "output_type": "stream",
     "text": [
      "Dataset Shape: (90000, 5, 4096)\n",
      "Labels Shape: (90000,)\n"
     ]
    }
   ],
   "source": [
    "dataset , labels = loadDatasetAndLabels(\"/content/drive/My Drive/CarCrashDatasetWithOpticalFlowAndYOLO/DatasetWithoutYOLO_M/FINALDATASET_LAST.npz\",\"/content/drive/My Drive/finalLabels.npz\",False)\n",
    "print(\"Dataset Shape:\",dataset.shape)\n",
    "print(\"Labels Shape:\",labels.shape)"
   ]
  },
  {
   "cell_type": "code",
   "execution_count": 10,
   "metadata": {
    "colab": {
     "base_uri": "https://localhost:8080/"
    },
    "id": "rs3-be9mXzXW",
    "outputId": "2f60e148-142f-467f-da02-2f5cd90368ff"
   },
   "outputs": [
    {
     "name": "stdout",
     "output_type": "stream",
     "text": [
      "Dataset Shape: (89943, 5, 4096)\n",
      "Labels Shape: (89943,)\n"
     ]
    }
   ],
   "source": [
    "dataset , labels = findAndDropNA(dataset,labels)\n",
    "print(\"Dataset Shape:\",dataset.shape)\n",
    "print(\"Labels Shape:\",labels.shape)"
   ]
  },
  {
   "cell_type": "code",
   "execution_count": 11,
   "metadata": {
    "id": "bRJ_07HmYnGk"
   },
   "outputs": [],
   "source": [
    "dataset = normalizeDataset(dataset,False)"
   ]
  },
  {
   "cell_type": "code",
   "execution_count": 12,
   "metadata": {
    "id": "50dKBLTej03v"
   },
   "outputs": [],
   "source": [
    "X_train, X_test, y_train, y_test = train_test_split(dataset, labels, test_size=0.3, random_state=42)\n",
    "del dataset\n",
    "del labels"
   ]
  },
  {
   "cell_type": "code",
   "execution_count": 13,
   "metadata": {
    "colab": {
     "base_uri": "https://localhost:8080/"
    },
    "id": "iByteJ6cj0yh",
    "outputId": "b9916c9a-bb09-4899-e64f-b524828fdf09"
   },
   "outputs": [
    {
     "name": "stdout",
     "output_type": "stream",
     "text": [
      "Train Size (62960, 5, 4096)\n",
      "Test Size (26983, 5, 4096)\n",
      "Train Label Size (62960,)\n",
      "Test Label Size (26983,)\n"
     ]
    }
   ],
   "source": [
    "print(\"Train Size\",X_train.shape)\n",
    "print(\"Test Size\",X_test.shape)\n",
    "print(\"Train Label Size\",y_train.shape)\n",
    "print(\"Test Label Size\",y_test.shape)"
   ]
  },
  {
   "cell_type": "code",
   "execution_count": 8,
   "metadata": {
    "colab": {
     "base_uri": "https://localhost:8080/"
    },
    "id": "VXX4LYU0mE42",
    "outputId": "60809cf0-35d7-4b51-969a-a11057613a5b"
   },
   "outputs": [
    {
     "name": "stdout",
     "output_type": "stream",
     "text": [
      "WARNING:tensorflow:Layer lstm will not use cuDNN kernels since it doesn't meet the criteria. It will use a generic GPU kernel as fallback when running on GPU.\n",
      "WARNING:tensorflow:Layer lstm_1 will not use cuDNN kernels since it doesn't meet the criteria. It will use a generic GPU kernel as fallback when running on GPU.\n"
     ]
    }
   ],
   "source": [
    "\n",
    "regressor = Sequential()\n",
    "\n",
    "regressor.add(LSTM(units = 16,activation='relu', return_sequences = True,input_shape = (5, 4096),dropout=0.2))\n",
    "regressor.add(BatchNormalization())\n",
    " \n",
    "\n",
    "regressor.add(LSTM(units = 8,activation='relu', return_sequences = True))\n",
    "\n",
    "regressor.add(LSTM(units = 4))\n",
    "\n",
    "regressor.add(Dense(units = 1,activation='sigmoid'))\n",
    "\n",
    "opt = keras.optimizers.SGD(learning_rate=0.00001)\n",
    "\n",
    "regressor.compile(optimizer = opt, loss = 'binary_crossentropy', metrics = ['accuracy'])\n",
    "\n"
   ]
  },
  {
   "cell_type": "code",
   "execution_count": 18,
   "metadata": {
    "colab": {
     "base_uri": "https://localhost:8080/"
    },
    "id": "8fZ0UgqCdLiH",
    "outputId": "9017772a-a492-4cc3-be6d-c679c60e0d6c"
   },
   "outputs": [
    {
     "name": "stdout",
     "output_type": "stream",
     "text": [
      "Epoch 1/24\n",
      "689/689 [==============================] - 17s 25ms/step - loss: 0.7003 - accuracy: 0.4612 - val_loss: 0.7057 - val_accuracy: 0.2781\n",
      "Epoch 2/24\n",
      "689/689 [==============================] - 17s 25ms/step - loss: 0.6983 - accuracy: 0.4848 - val_loss: 0.7018 - val_accuracy: 0.2903\n",
      "Epoch 3/24\n",
      "689/689 [==============================] - 17s 25ms/step - loss: 0.6966 - accuracy: 0.5100 - val_loss: 0.6980 - val_accuracy: 0.4515\n",
      "Epoch 4/24\n",
      "689/689 [==============================] - 17s 25ms/step - loss: 0.6946 - accuracy: 0.5294 - val_loss: 0.6957 - val_accuracy: 0.5092\n",
      "Epoch 5/24\n",
      "689/689 [==============================] - 17s 25ms/step - loss: 0.6927 - accuracy: 0.5516 - val_loss: 0.6926 - val_accuracy: 0.5442\n",
      "Epoch 6/24\n",
      "689/689 [==============================] - 18s 26ms/step - loss: 0.6909 - accuracy: 0.5749 - val_loss: 0.6900 - val_accuracy: 0.5717\n",
      "Epoch 7/24\n",
      "689/689 [==============================] - 17s 25ms/step - loss: 0.6893 - accuracy: 0.5932 - val_loss: 0.6883 - val_accuracy: 0.5845\n",
      "Epoch 8/24\n",
      "689/689 [==============================] - 17s 25ms/step - loss: 0.6873 - accuracy: 0.6151 - val_loss: 0.6865 - val_accuracy: 0.5995\n",
      "Epoch 9/24\n",
      "689/689 [==============================] - 17s 25ms/step - loss: 0.6858 - accuracy: 0.6324 - val_loss: 0.6849 - val_accuracy: 0.6147\n",
      "Epoch 10/24\n",
      "689/689 [==============================] - 17s 25ms/step - loss: 0.6844 - accuracy: 0.6439 - val_loss: 0.6829 - val_accuracy: 0.6359\n",
      "Epoch 11/24\n",
      "689/689 [==============================] - 17s 25ms/step - loss: 0.6826 - accuracy: 0.6621 - val_loss: 0.6815 - val_accuracy: 0.6476\n",
      "Epoch 12/24\n",
      "689/689 [==============================] - 17s 25ms/step - loss: 0.6809 - accuracy: 0.6784 - val_loss: 0.6801 - val_accuracy: 0.6606\n",
      "Epoch 13/24\n",
      "689/689 [==============================] - 17s 25ms/step - loss: 0.6793 - accuracy: 0.6901 - val_loss: 0.6779 - val_accuracy: 0.6864\n",
      "Epoch 14/24\n",
      "689/689 [==============================] - 17s 25ms/step - loss: 0.6775 - accuracy: 0.7060 - val_loss: 0.6764 - val_accuracy: 0.6953\n",
      "Epoch 15/24\n",
      "689/689 [==============================] - 17s 25ms/step - loss: 0.6761 - accuracy: 0.7138 - val_loss: 0.6755 - val_accuracy: 0.7092\n",
      "Epoch 16/24\n",
      "689/689 [==============================] - 17s 25ms/step - loss: 0.6745 - accuracy: 0.7268 - val_loss: 0.6742 - val_accuracy: 0.7205\n",
      "Epoch 17/24\n",
      "689/689 [==============================] - 17s 25ms/step - loss: 0.6730 - accuracy: 0.7396 - val_loss: 0.6725 - val_accuracy: 0.7389\n",
      "Epoch 18/24\n",
      "689/689 [==============================] - 17s 25ms/step - loss: 0.6713 - accuracy: 0.7488 - val_loss: 0.6709 - val_accuracy: 0.7550\n",
      "Epoch 19/24\n",
      "689/689 [==============================] - 17s 25ms/step - loss: 0.6699 - accuracy: 0.7587 - val_loss: 0.6696 - val_accuracy: 0.7652\n",
      "Epoch 20/24\n",
      "689/689 [==============================] - 17s 25ms/step - loss: 0.6683 - accuracy: 0.7689 - val_loss: 0.6679 - val_accuracy: 0.7784\n",
      "Epoch 21/24\n",
      "689/689 [==============================] - 17s 25ms/step - loss: 0.6670 - accuracy: 0.7726 - val_loss: 0.6664 - val_accuracy: 0.7873\n",
      "Epoch 22/24\n",
      "689/689 [==============================] - 17s 25ms/step - loss: 0.6653 - accuracy: 0.7821 - val_loss: 0.6653 - val_accuracy: 0.7948\n",
      "Epoch 23/24\n",
      "689/689 [==============================] - 17s 25ms/step - loss: 0.6638 - accuracy: 0.7900 - val_loss: 0.6631 - val_accuracy: 0.8097\n",
      "Epoch 24/24\n",
      "689/689 [==============================] - 17s 25ms/step - loss: 0.6624 - accuracy: 0.7976 - val_loss: 0.6620 - val_accuracy: 0.8173\n"
     ]
    },
    {
     "name": "stderr",
     "output_type": "stream",
     "text": [
      "WARNING:absl:Found untraced functions such as lstm_cell_5_layer_call_fn, lstm_cell_5_layer_call_and_return_conditional_losses while saving (showing 2 of 2). These functions will not be directly callable after loading.\n"
     ]
    },
    {
     "name": "stdout",
     "output_type": "stream",
     "text": [
      "INFO:tensorflow:Assets written to: /content/drive/My Drive/bestModelWithoutYOLO_M/assets\n"
     ]
    },
    {
     "name": "stderr",
     "output_type": "stream",
     "text": [
      "INFO:tensorflow:Assets written to: /content/drive/My Drive/bestModelWithoutYOLO_M/assets\n",
      "WARNING:absl:<keras.layers.recurrent.LSTMCell object at 0x7f19fc25ba90> has the same name 'LSTMCell' as a built-in Keras object. Consider renaming <class 'keras.layers.recurrent.LSTMCell'> to avoid naming conflicts when loading with `tf.keras.models.load_model`. If renaming is not possible, pass the object in the `custom_objects` parameter of the load function.\n",
      "WARNING:absl:<keras.layers.recurrent.LSTMCell object at 0x7f19fc0791d0> has the same name 'LSTMCell' as a built-in Keras object. Consider renaming <class 'keras.layers.recurrent.LSTMCell'> to avoid naming conflicts when loading with `tf.keras.models.load_model`. If renaming is not possible, pass the object in the `custom_objects` parameter of the load function.\n",
      "WARNING:absl:<keras.layers.recurrent.LSTMCell object at 0x7f19fc054850> has the same name 'LSTMCell' as a built-in Keras object. Consider renaming <class 'keras.layers.recurrent.LSTMCell'> to avoid naming conflicts when loading with `tf.keras.models.load_model`. If renaming is not possible, pass the object in the `custom_objects` parameter of the load function.\n"
     ]
    }
   ],
   "source": [
    "trainHistory = regressor.fit(x = X_train , y = y_train, batch_size=64,epochs=24,shuffle=True,validation_split=0.3)\n",
    "regressor.save(\"/content/drive/My Drive/bestModelWithoutYOLO_M\")"
   ]
  },
  {
   "cell_type": "code",
   "execution_count": 19,
   "metadata": {
    "colab": {
     "base_uri": "https://localhost:8080/",
     "height": 573
    },
    "id": "Tlj_u8OTnTmV",
    "outputId": "d8581ec7-27b1-4327-8cc2-d11adb5b61fa"
   },
   "outputs": [
    {
     "data": {
      "image/png": "[encoded data removed]",
      "text/plain": [
       "<Figure size 432x288 with 1 Axes>"
      ]
     },
     "metadata": {
      "needs_background": "light"
     },
     "output_type": "display_data"
    },
    {
     "data": {
      "image/png": "[encoded data removed]",
      "text/plain": [
       "<Figure size 432x288 with 1 Axes>"
      ]
     },
     "metadata": {
      "needs_background": "light"
     },
     "output_type": "display_data"
    }
   ],
   "source": [
    "visualizeTrainResults(trainHistory)"
   ]
  },
  {
   "cell_type": "code",
   "execution_count": 20,
   "metadata": {
    "colab": {
     "base_uri": "https://localhost:8080/"
    },
    "id": "_Obv13--mE22",
    "outputId": "d5c5baea-187b-42b2-834d-5a10acc360c3"
   },
   "outputs": [
    {
     "name": "stdout",
     "output_type": "stream",
     "text": [
      "WARNING:tensorflow:Layer lstm_3 will not use cuDNN kernels since it doesn't meet the criteria. It will use a generic GPU kernel as fallback when running on GPU.\n"
     ]
    },
    {
     "name": "stderr",
     "output_type": "stream",
     "text": [
      "WARNING:tensorflow:Layer lstm_3 will not use cuDNN kernels since it doesn't meet the criteria. It will use a generic GPU kernel as fallback when running on GPU.\n"
     ]
    },
    {
     "name": "stdout",
     "output_type": "stream",
     "text": [
      "WARNING:tensorflow:Layer lstm_4 will not use cuDNN kernels since it doesn't meet the criteria. It will use a generic GPU kernel as fallback when running on GPU.\n"
     ]
    },
    {
     "name": "stderr",
     "output_type": "stream",
     "text": [
      "WARNING:tensorflow:Layer lstm_4 will not use cuDNN kernels since it doesn't meet the criteria. It will use a generic GPU kernel as fallback when running on GPU.\n"
     ]
    }
   ],
   "source": [
    "model = keras.models.load_model('/content/drive/My Drive/bestModelWithoutYOLO_M')"
   ]
  },
  {
   "cell_type": "code",
   "execution_count": 21,
   "metadata": {
    "id": "Vs2-VWh1mE05"
   },
   "outputs": [],
   "source": [
    "predictions= binaryPredictions(model,X_test)"
   ]
  },
  {
   "cell_type": "code",
   "execution_count": 22,
   "metadata": {
    "colab": {
     "base_uri": "https://localhost:8080/"
    },
    "id": "M4CTD_mCxqq8",
    "outputId": "f9e308c2-b417-413a-a1c8-15750a8f9f16"
   },
   "outputs": [
    {
     "name": "stdout",
     "output_type": "stream",
     "text": [
      "True Positive :  474\n",
      "False Positive :  2604\n",
      "False Negative :  2280\n",
      "True Negative :  21625\n"
     ]
    }
   ],
   "source": [
    "tn, fp, fn, tp = confusion_matrix(y_test, predictions).ravel()\n",
    "print(\"True Positive : \",tp)\n",
    "print(\"False Positive : \",fp)\n",
    "print(\"False Negative : \",fn)\n",
    "print(\"True Negative : \",tn)"
   ]
  },
  {
   "cell_type": "code",
   "execution_count": 25,
   "metadata": {
    "colab": {
     "base_uri": "https://localhost:8080/"
    },
    "id": "C6HDQr8Bjgov",
    "outputId": "7959c3c7-e35f-44c7-87ca-ff8516fd4c2d"
   },
   "outputs": [
    {
     "name": "stdout",
     "output_type": "stream",
     "text": [
      "Accuracy Rate :  0.8189971463514064\n",
      "True Positive Rate :  0.1721132897603486\n",
      "Error Rate :  0.18100285364859356\n",
      "True Negative Rate :  0.8925254859878657\n",
      "F1 Score:  0.8234158194047823\n"
     ]
    }
   ],
   "source": [
    "truePositiveRate = tp/(tp+fn)\n",
    "accuracyRate = (tp+tn) / (tp+tn+fp+fn)\n",
    "misclassificationRate = (fp+fn) / (fp+fn+tp+tn)\n",
    "trueNegativeRate = tn / (tn+fp)\n",
    "f1 = f1_score(y_test, predictions, average='weighted') \n",
    "\n",
    "print(\"Accuracy Rate : \",accuracyRate)\n",
    "print(\"True Positive Rate : \",truePositiveRate)\n",
    "print(\"Error Rate : \",misclassificationRate)\n",
    "print(\"True Negative Rate : \",trueNegativeRate)\n",
    "print(\"F1 Score: \", f1)"
   ]
  },
  {
   "cell_type": "markdown",
   "metadata": {
    "id": "-AYnUCYfo2Vw"
   },
   "source": [
    "## Dataset Without YOLO and Orientation Optical Flow"
   ]
  },
  {
   "cell_type": "code",
   "execution_count": 8,
   "metadata": {
    "colab": {
     "base_uri": "https://localhost:8080/"
    },
    "id": "_3OJiQiCjggz",
    "outputId": "fc01b50e-ff72-4a96-8f97-04feac47140f"
   },
   "outputs": [
    {
     "name": "stdout",
     "output_type": "stream",
     "text": [
      "Dataset Shape: (90000, 5, 4096)\n",
      "Labels Shape: (90000,)\n"
     ]
    }
   ],
   "source": [
    "dataset , labels = loadDatasetAndLabels(\"/content/drive/My Drive/CarCrashDatasetWithOpticalFlowAndYOLO/DatasetWithoutYOLO_O/FINALDATASET_LAST.npz\",\"/content/drive/My Drive/finalLabels.npz\",False)\n",
    "print(\"Dataset Shape:\",dataset.shape)\n",
    "print(\"Labels Shape:\",labels.shape)"
   ]
  },
  {
   "cell_type": "code",
   "execution_count": 9,
   "metadata": {
    "colab": {
     "base_uri": "https://localhost:8080/"
    },
    "id": "awCutqaJoNQ4",
    "outputId": "0b97915d-6b04-461a-ba96-177ef6f5ad1b"
   },
   "outputs": [
    {
     "name": "stdout",
     "output_type": "stream",
     "text": [
      "Dataset Shape: (90000, 5, 4096)\n",
      "Labels Shape: (90000,)\n"
     ]
    }
   ],
   "source": [
    "dataset , labels = findAndDropNA(dataset,labels)\n",
    "print(\"Dataset Shape:\",dataset.shape)\n",
    "print(\"Labels Shape:\",labels.shape)"
   ]
  },
  {
   "cell_type": "code",
   "execution_count": 11,
   "metadata": {
    "id": "Ich89FRboQ5g"
   },
   "outputs": [],
   "source": [
    "dataset = normalizeDataset(dataset,False)"
   ]
  },
  {
   "cell_type": "code",
   "execution_count": 12,
   "metadata": {
    "id": "v4lNvP0ZoVQ2"
   },
   "outputs": [],
   "source": [
    "X_train, X_test, y_train, y_test = train_test_split(dataset, labels, test_size=0.3, random_state=42)\n",
    "del dataset\n",
    "del labels"
   ]
  },
  {
   "cell_type": "code",
   "execution_count": 13,
   "metadata": {
    "colab": {
     "base_uri": "https://localhost:8080/"
    },
    "id": "d26waqAaoYl4",
    "outputId": "a1e64818-bae3-4ac0-8391-ffa9940b4aec"
   },
   "outputs": [
    {
     "name": "stdout",
     "output_type": "stream",
     "text": [
      "Train Size (63000, 5, 4096)\n",
      "Test Size (27000, 5, 4096)\n",
      "Train Label Size (63000,)\n",
      "Test Label Size (27000,)\n"
     ]
    }
   ],
   "source": [
    "print(\"Train Size\",X_train.shape)\n",
    "print(\"Test Size\",X_test.shape)\n",
    "print(\"Train Label Size\",y_train.shape)\n",
    "print(\"Test Label Size\",y_test.shape)"
   ]
  },
  {
   "cell_type": "code",
   "execution_count": 14,
   "metadata": {
    "colab": {
     "base_uri": "https://localhost:8080/"
    },
    "id": "vqFQI4kwobrO",
    "outputId": "6b2d9743-6bc7-414f-ca02-dccc2858e461"
   },
   "outputs": [
    {
     "name": "stdout",
     "output_type": "stream",
     "text": [
      "Epoch 1/24\n",
      "690/690 [==============================] - 20s 24ms/step - loss: 0.6791 - accuracy: 0.6553 - val_loss: 0.6847 - val_accuracy: 0.6347\n",
      "Epoch 2/24\n",
      "690/690 [==============================] - 15s 22ms/step - loss: 0.6768 - accuracy: 0.6772 - val_loss: 0.6838 - val_accuracy: 0.6441\n",
      "Epoch 3/24\n",
      "690/690 [==============================] - 15s 22ms/step - loss: 0.6739 - accuracy: 0.7031 - val_loss: 0.6818 - val_accuracy: 0.6812\n",
      "Epoch 4/24\n",
      "690/690 [==============================] - 15s 22ms/step - loss: 0.6716 - accuracy: 0.7248 - val_loss: 0.6790 - val_accuracy: 0.7302\n",
      "Epoch 5/24\n",
      "690/690 [==============================] - 15s 22ms/step - loss: 0.6688 - accuracy: 0.7460 - val_loss: 0.6769 - val_accuracy: 0.7604\n",
      "Epoch 6/24\n",
      "690/690 [==============================] - 15s 22ms/step - loss: 0.6663 - accuracy: 0.7639 - val_loss: 0.6740 - val_accuracy: 0.8026\n",
      "Epoch 7/24\n",
      "690/690 [==============================] - 15s 22ms/step - loss: 0.6637 - accuracy: 0.7801 - val_loss: 0.6709 - val_accuracy: 0.8350\n",
      "Epoch 8/24\n",
      "690/690 [==============================] - 15s 22ms/step - loss: 0.6610 - accuracy: 0.7921 - val_loss: 0.6667 - val_accuracy: 0.8533\n",
      "Epoch 9/24\n",
      "690/690 [==============================] - 15s 22ms/step - loss: 0.6586 - accuracy: 0.8065 - val_loss: 0.6620 - val_accuracy: 0.8663\n",
      "Epoch 10/24\n",
      "690/690 [==============================] - 15s 22ms/step - loss: 0.6563 - accuracy: 0.8181 - val_loss: 0.6580 - val_accuracy: 0.8740\n",
      "Epoch 11/24\n",
      "690/690 [==============================] - 15s 22ms/step - loss: 0.6537 - accuracy: 0.8286 - val_loss: 0.6535 - val_accuracy: 0.8801\n",
      "Epoch 12/24\n",
      "690/690 [==============================] - 15s 22ms/step - loss: 0.6514 - accuracy: 0.8353 - val_loss: 0.6474 - val_accuracy: 0.8839\n",
      "Epoch 13/24\n",
      "690/690 [==============================] - 15s 22ms/step - loss: 0.6489 - accuracy: 0.8427 - val_loss: 0.6432 - val_accuracy: 0.8858\n",
      "Epoch 14/24\n",
      "690/690 [==============================] - 15s 22ms/step - loss: 0.6466 - accuracy: 0.8477 - val_loss: 0.6389 - val_accuracy: 0.8880\n",
      "Epoch 15/24\n",
      "690/690 [==============================] - 15s 22ms/step - loss: 0.6444 - accuracy: 0.8556 - val_loss: 0.6342 - val_accuracy: 0.8893\n",
      "Epoch 16/24\n",
      "690/690 [==============================] - 15s 22ms/step - loss: 0.6421 - accuracy: 0.8604 - val_loss: 0.6300 - val_accuracy: 0.8904\n",
      "Epoch 17/24\n",
      "690/690 [==============================] - 15s 22ms/step - loss: 0.6396 - accuracy: 0.8641 - val_loss: 0.6261 - val_accuracy: 0.8917\n",
      "Epoch 18/24\n",
      "690/690 [==============================] - 15s 22ms/step - loss: 0.6379 - accuracy: 0.8677 - val_loss: 0.6224 - val_accuracy: 0.8931\n",
      "Epoch 19/24\n",
      "690/690 [==============================] - 15s 22ms/step - loss: 0.6355 - accuracy: 0.8716 - val_loss: 0.6196 - val_accuracy: 0.8935\n",
      "Epoch 20/24\n",
      "690/690 [==============================] - 16s 23ms/step - loss: 0.6336 - accuracy: 0.8732 - val_loss: 0.6172 - val_accuracy: 0.8942\n",
      "Epoch 21/24\n",
      "690/690 [==============================] - 16s 23ms/step - loss: 0.6316 - accuracy: 0.8762 - val_loss: 0.6140 - val_accuracy: 0.8947\n",
      "Epoch 22/24\n",
      "690/690 [==============================] - 16s 24ms/step - loss: 0.6294 - accuracy: 0.8782 - val_loss: 0.6112 - val_accuracy: 0.8952\n",
      "Epoch 23/24\n",
      "690/690 [==============================] - 17s 25ms/step - loss: 0.6273 - accuracy: 0.8802 - val_loss: 0.6084 - val_accuracy: 0.8958\n",
      "Epoch 24/24\n",
      "690/690 [==============================] - 17s 24ms/step - loss: 0.6253 - accuracy: 0.8817 - val_loss: 0.6065 - val_accuracy: 0.8960\n"
     ]
    },
    {
     "name": "stderr",
     "output_type": "stream",
     "text": [
      "WARNING:absl:Found untraced functions such as lstm_cell_2_layer_call_fn, lstm_cell_2_layer_call_and_return_conditional_losses while saving (showing 2 of 2). These functions will not be directly callable after loading.\n"
     ]
    },
    {
     "name": "stdout",
     "output_type": "stream",
     "text": [
      "INFO:tensorflow:Assets written to: /content/drive/My Drive/bestModelWithoutYOLO_O/assets\n"
     ]
    },
    {
     "name": "stderr",
     "output_type": "stream",
     "text": [
      "INFO:tensorflow:Assets written to: /content/drive/My Drive/bestModelWithoutYOLO_O/assets\n",
      "WARNING:absl:<keras.layers.recurrent.LSTMCell object at 0x7f372c93dc50> has the same name 'LSTMCell' as a built-in Keras object. Consider renaming <class 'keras.layers.recurrent.LSTMCell'> to avoid naming conflicts when loading with `tf.keras.models.load_model`. If renaming is not possible, pass the object in the `custom_objects` parameter of the load function.\n",
      "WARNING:absl:<keras.layers.recurrent.LSTMCell object at 0x7f372042f250> has the same name 'LSTMCell' as a built-in Keras object. Consider renaming <class 'keras.layers.recurrent.LSTMCell'> to avoid naming conflicts when loading with `tf.keras.models.load_model`. If renaming is not possible, pass the object in the `custom_objects` parameter of the load function.\n",
      "WARNING:absl:<keras.layers.recurrent.LSTMCell object at 0x7f372042f350> has the same name 'LSTMCell' as a built-in Keras object. Consider renaming <class 'keras.layers.recurrent.LSTMCell'> to avoid naming conflicts when loading with `tf.keras.models.load_model`. If renaming is not possible, pass the object in the `custom_objects` parameter of the load function.\n"
     ]
    }
   ],
   "source": [
    "trainHistory = regressor.fit(x = X_train , y = y_train, batch_size=64,epochs=24,shuffle=True,validation_split=0.3)\n",
    "regressor.save(\"/content/drive/My Drive/bestModelWithoutYOLO_O\")"
   ]
  },
  {
   "cell_type": "code",
   "execution_count": 15,
   "metadata": {
    "colab": {
     "base_uri": "https://localhost:8080/",
     "height": 573
    },
    "id": "BHPaaJn0oekc",
    "outputId": "3e9c6b90-10bf-4b40-a4ed-301f0cd0053b"
   },
   "outputs": [
    {
     "data": {
      "image/png": "[encoded data removed]",
      "text/plain": [
       "<Figure size 432x288 with 1 Axes>"
      ]
     },
     "metadata": {
      "needs_background": "light"
     },
     "output_type": "display_data"
    },
    {
     "data": {
      "image/png": "[encoded data removed]",
      "text/plain": [
       "<Figure size 432x288 with 1 Axes>"
      ]
     },
     "metadata": {
      "needs_background": "light"
     },
     "output_type": "display_data"
    }
   ],
   "source": [
    "visualizeTrainResults(trainHistory)"
   ]
  },
  {
   "cell_type": "code",
   "execution_count": 16,
   "metadata": {
    "colab": {
     "base_uri": "https://localhost:8080/"
    },
    "id": "QlJWWiVbohes",
    "outputId": "250186f3-b928-44b3-f6fb-9c15779cd7c6"
   },
   "outputs": [
    {
     "name": "stdout",
     "output_type": "stream",
     "text": [
      "WARNING:tensorflow:Layer lstm will not use cuDNN kernels since it doesn't meet the criteria. It will use a generic GPU kernel as fallback when running on GPU.\n"
     ]
    },
    {
     "name": "stderr",
     "output_type": "stream",
     "text": [
      "WARNING:tensorflow:Layer lstm will not use cuDNN kernels since it doesn't meet the criteria. It will use a generic GPU kernel as fallback when running on GPU.\n"
     ]
    },
    {
     "name": "stdout",
     "output_type": "stream",
     "text": [
      "WARNING:tensorflow:Layer lstm_1 will not use cuDNN kernels since it doesn't meet the criteria. It will use a generic GPU kernel as fallback when running on GPU.\n"
     ]
    },
    {
     "name": "stderr",
     "output_type": "stream",
     "text": [
      "WARNING:tensorflow:Layer lstm_1 will not use cuDNN kernels since it doesn't meet the criteria. It will use a generic GPU kernel as fallback when running on GPU.\n"
     ]
    }
   ],
   "source": [
    "model = keras.models.load_model('/content/drive/My Drive/bestModelWithoutYOLO_O')"
   ]
  },
  {
   "cell_type": "code",
   "execution_count": 17,
   "metadata": {
    "id": "GMcpHsQtojYA"
   },
   "outputs": [],
   "source": [
    "predictions= binaryPredictions(model,X_test)"
   ]
  },
  {
   "cell_type": "code",
   "execution_count": 18,
   "metadata": {
    "colab": {
     "base_uri": "https://localhost:8080/"
    },
    "id": "SkQig7kHomdM",
    "outputId": "a8f80bdd-80bc-4f0d-b32a-14ead2937097"
   },
   "outputs": [
    {
     "name": "stdout",
     "output_type": "stream",
     "text": [
      "True Positive :  21\n",
      "False Positive :  74\n",
      "False Negative :  2770\n",
      "True Negative :  24135\n"
     ]
    }
   ],
   "source": [
    "tn, fp, fn, tp = confusion_matrix(y_test, predictions).ravel()\n",
    "print(\"True Positive : \",tp)\n",
    "print(\"False Positive : \",fp)\n",
    "print(\"False Negative : \",fn)\n",
    "print(\"True Negative : \",tn)"
   ]
  },
  {
   "cell_type": "code",
   "execution_count": 19,
   "metadata": {
    "colab": {
     "base_uri": "https://localhost:8080/"
    },
    "id": "yjFK9684oooF",
    "outputId": "cb277430-c98d-4a9f-9344-8e55da4d5a22"
   },
   "outputs": [
    {
     "name": "stdout",
     "output_type": "stream",
     "text": [
      "Accuracy Rate :  0.8946666666666667\n",
      "True Positive Rate :  0.007524184879971337\n",
      "Error Rate :  0.10533333333333333\n",
      "True Negative Rate :  0.9969432855549589\n",
      "F1 Score:  0.8482452086297608\n"
     ]
    }
   ],
   "source": [
    "truePositiveRate = tp/(tp+fn)\n",
    "accuracyRate = (tp+tn) / (tp+tn+fp+fn)\n",
    "misclassificationRate = (fp+fn) / (fp+fn+tp+tn)\n",
    "trueNegativeRate = tn / (tn+fp)\n",
    "f1 = f1_score(y_test, predictions, average='weighted') \n",
    "\n",
    "print(\"Accuracy Rate : \",accuracyRate)\n",
    "print(\"True Positive Rate : \",truePositiveRate)\n",
    "print(\"Error Rate : \",misclassificationRate)\n",
    "print(\"True Negative Rate : \",trueNegativeRate)\n",
    "print(\"F1 Score: \", f1)"
   ]
  },
  {
   "cell_type": "markdown",
   "metadata": {
    "id": "VeqLOzikuFc4"
   },
   "source": [
    "## Dataset Without YOLO and Magnitude * Orientation Optical Flow"
   ]
  },
  {
   "cell_type": "code",
   "execution_count": 9,
   "metadata": {
    "colab": {
     "base_uri": "https://localhost:8080/"
    },
    "id": "vN-98WrmuFLH",
    "outputId": "0a1b5569-526b-4422-b824-a11bbf951509"
   },
   "outputs": [
    {
     "name": "stdout",
     "output_type": "stream",
     "text": [
      "Dataset Shape: (90000, 5, 4096)\n",
      "Labels Shape: (90000,)\n"
     ]
    }
   ],
   "source": [
    "dataset , labels = loadDatasetAndLabels(\"/content/drive/My Drive/CarCrashDatasetWithOpticalFlowAndYOLO/DatasetWithoutYOLO_MO/FINALDATASET_LAST.npz\",\"/content/drive/My Drive/finalLabels.npz\",False)\n",
    "print(\"Dataset Shape:\",dataset.shape)\n",
    "print(\"Labels Shape:\",labels.shape)"
   ]
  },
  {
   "cell_type": "code",
   "execution_count": 10,
   "metadata": {
    "colab": {
     "base_uri": "https://localhost:8080/"
    },
    "id": "MWqDs8n8uItn",
    "outputId": "d7f8923e-740b-44a5-9c9e-ec1bec33725e"
   },
   "outputs": [
    {
     "name": "stdout",
     "output_type": "stream",
     "text": [
      "Dataset Shape: (89909, 5, 4096)\n",
      "Labels Shape: (89909,)\n"
     ]
    }
   ],
   "source": [
    "dataset , labels = findAndDropNA(dataset,labels)\n",
    "print(\"Dataset Shape:\",dataset.shape)\n",
    "print(\"Labels Shape:\",labels.shape)"
   ]
  },
  {
   "cell_type": "code",
   "execution_count": 11,
   "metadata": {
    "id": "PZ14LXxpuLqP"
   },
   "outputs": [],
   "source": [
    "dataset = normalizeDataset(dataset,False)"
   ]
  },
  {
   "cell_type": "code",
   "execution_count": 12,
   "metadata": {
    "id": "-7-_AJd2uP2V"
   },
   "outputs": [],
   "source": [
    "X_train, X_test, y_train, y_test = train_test_split(dataset, labels, test_size=0.3, random_state=42)\n",
    "del dataset\n",
    "del labels"
   ]
  },
  {
   "cell_type": "code",
   "execution_count": 13,
   "metadata": {
    "colab": {
     "base_uri": "https://localhost:8080/"
    },
    "id": "JxRTkM__uQ1b",
    "outputId": "70dd7bb5-7a35-486c-f2f8-4ccd1e76e42b"
   },
   "outputs": [
    {
     "name": "stdout",
     "output_type": "stream",
     "text": [
      "Train Size (62936, 5, 4096)\n",
      "Test Size (26973, 5, 4096)\n",
      "Train Label Size (62936,)\n",
      "Test Label Size (26973,)\n"
     ]
    }
   ],
   "source": [
    "print(\"Train Size\",X_train.shape)\n",
    "print(\"Test Size\",X_test.shape)\n",
    "print(\"Train Label Size\",y_train.shape)\n",
    "print(\"Test Label Size\",y_test.shape)"
   ]
  },
  {
   "cell_type": "code",
   "execution_count": 14,
   "metadata": {
    "colab": {
     "base_uri": "https://localhost:8080/"
    },
    "id": "s1tLqge8uQwP",
    "outputId": "737ceb05-b2e6-4f42-e2e1-a0f46e5e204d"
   },
   "outputs": [
    {
     "name": "stdout",
     "output_type": "stream",
     "text": [
      "Epoch 1/24\n",
      "689/689 [==============================] - 30s 27ms/step - loss: 0.6919 - accuracy: 0.5813 - val_loss: 0.6937 - val_accuracy: 0.5417\n",
      "Epoch 2/24\n",
      "689/689 [==============================] - 17s 24ms/step - loss: 0.6900 - accuracy: 0.6047 - val_loss: 0.6910 - val_accuracy: 0.6108\n",
      "Epoch 3/24\n",
      "689/689 [==============================] - 16s 24ms/step - loss: 0.6877 - accuracy: 0.6298 - val_loss: 0.6889 - val_accuracy: 0.6588\n",
      "Epoch 4/24\n",
      "689/689 [==============================] - 17s 24ms/step - loss: 0.6860 - accuracy: 0.6529 - val_loss: 0.6870 - val_accuracy: 0.6770\n",
      "Epoch 5/24\n",
      "689/689 [==============================] - 16s 24ms/step - loss: 0.6840 - accuracy: 0.6747 - val_loss: 0.6856 - val_accuracy: 0.7094\n",
      "Epoch 6/24\n",
      "689/689 [==============================] - 17s 24ms/step - loss: 0.6820 - accuracy: 0.6956 - val_loss: 0.6823 - val_accuracy: 0.7500\n",
      "Epoch 7/24\n",
      "689/689 [==============================] - 16s 24ms/step - loss: 0.6798 - accuracy: 0.7131 - val_loss: 0.6804 - val_accuracy: 0.7811\n",
      "Epoch 8/24\n",
      "689/689 [==============================] - 16s 24ms/step - loss: 0.6777 - accuracy: 0.7327 - val_loss: 0.6778 - val_accuracy: 0.8059\n",
      "Epoch 9/24\n",
      "689/689 [==============================] - 17s 25ms/step - loss: 0.6757 - accuracy: 0.7475 - val_loss: 0.6751 - val_accuracy: 0.8241\n",
      "Epoch 10/24\n",
      "689/689 [==============================] - 17s 25ms/step - loss: 0.6739 - accuracy: 0.7592 - val_loss: 0.6726 - val_accuracy: 0.8388\n",
      "Epoch 11/24\n",
      "689/689 [==============================] - 17s 25ms/step - loss: 0.6720 - accuracy: 0.7729 - val_loss: 0.6714 - val_accuracy: 0.8488\n",
      "Epoch 12/24\n",
      "689/689 [==============================] - 17s 25ms/step - loss: 0.6700 - accuracy: 0.7850 - val_loss: 0.6682 - val_accuracy: 0.8536\n",
      "Epoch 13/24\n",
      "689/689 [==============================] - 17s 25ms/step - loss: 0.6681 - accuracy: 0.7946 - val_loss: 0.6663 - val_accuracy: 0.8636\n",
      "Epoch 14/24\n",
      "689/689 [==============================] - 17s 25ms/step - loss: 0.6660 - accuracy: 0.8064 - val_loss: 0.6644 - val_accuracy: 0.8653\n",
      "Epoch 15/24\n",
      "689/689 [==============================] - 17s 25ms/step - loss: 0.6643 - accuracy: 0.8135 - val_loss: 0.6623 - val_accuracy: 0.8692\n",
      "Epoch 16/24\n",
      "689/689 [==============================] - 17s 25ms/step - loss: 0.6623 - accuracy: 0.8206 - val_loss: 0.6607 - val_accuracy: 0.8729\n",
      "Epoch 17/24\n",
      "689/689 [==============================] - 17s 25ms/step - loss: 0.6607 - accuracy: 0.8268 - val_loss: 0.6583 - val_accuracy: 0.8760\n",
      "Epoch 18/24\n",
      "689/689 [==============================] - 17s 25ms/step - loss: 0.6589 - accuracy: 0.8338 - val_loss: 0.6562 - val_accuracy: 0.8774\n",
      "Epoch 19/24\n",
      "689/689 [==============================] - 17s 25ms/step - loss: 0.6572 - accuracy: 0.8392 - val_loss: 0.6546 - val_accuracy: 0.8794\n",
      "Epoch 20/24\n",
      "689/689 [==============================] - 17s 25ms/step - loss: 0.6555 - accuracy: 0.8428 - val_loss: 0.6530 - val_accuracy: 0.8805\n",
      "Epoch 21/24\n",
      "689/689 [==============================] - 17s 25ms/step - loss: 0.6538 - accuracy: 0.8505 - val_loss: 0.6517 - val_accuracy: 0.8844\n",
      "Epoch 22/24\n",
      "689/689 [==============================] - 17s 25ms/step - loss: 0.6521 - accuracy: 0.8531 - val_loss: 0.6501 - val_accuracy: 0.8839\n",
      "Epoch 23/24\n",
      "689/689 [==============================] - 17s 25ms/step - loss: 0.6505 - accuracy: 0.8563 - val_loss: 0.6478 - val_accuracy: 0.8852\n",
      "Epoch 24/24\n",
      "689/689 [==============================] - 17s 25ms/step - loss: 0.6490 - accuracy: 0.8595 - val_loss: 0.6461 - val_accuracy: 0.8865\n"
     ]
    },
    {
     "name": "stderr",
     "output_type": "stream",
     "text": [
      "WARNING:absl:Found untraced functions such as lstm_cell_2_layer_call_fn, lstm_cell_2_layer_call_and_return_conditional_losses while saving (showing 2 of 2). These functions will not be directly callable after loading.\n"
     ]
    },
    {
     "name": "stdout",
     "output_type": "stream",
     "text": [
      "INFO:tensorflow:Assets written to: /content/drive/My Drive/bestModelWithoutYOLO_MO/assets\n"
     ]
    },
    {
     "name": "stderr",
     "output_type": "stream",
     "text": [
      "INFO:tensorflow:Assets written to: /content/drive/My Drive/bestModelWithoutYOLO_MO/assets\n",
      "WARNING:absl:<keras.layers.recurrent.LSTMCell object at 0x7f49e4c9ba90> has the same name 'LSTMCell' as a built-in Keras object. Consider renaming <class 'keras.layers.recurrent.LSTMCell'> to avoid naming conflicts when loading with `tf.keras.models.load_model`. If renaming is not possible, pass the object in the `custom_objects` parameter of the load function.\n",
      "WARNING:absl:<keras.layers.recurrent.LSTMCell object at 0x7f49d03d2710> has the same name 'LSTMCell' as a built-in Keras object. Consider renaming <class 'keras.layers.recurrent.LSTMCell'> to avoid naming conflicts when loading with `tf.keras.models.load_model`. If renaming is not possible, pass the object in the `custom_objects` parameter of the load function.\n",
      "WARNING:absl:<keras.layers.recurrent.LSTMCell object at 0x7f49d03baed0> has the same name 'LSTMCell' as a built-in Keras object. Consider renaming <class 'keras.layers.recurrent.LSTMCell'> to avoid naming conflicts when loading with `tf.keras.models.load_model`. If renaming is not possible, pass the object in the `custom_objects` parameter of the load function.\n"
     ]
    }
   ],
   "source": [
    "trainHistory = regressor.fit(x = X_train , y = y_train, batch_size=64,epochs=24,shuffle=True,validation_split=0.3)\n",
    "regressor.save(\"/content/drive/My Drive/bestModelWithoutYOLO_MO\")"
   ]
  },
  {
   "cell_type": "code",
   "execution_count": 15,
   "metadata": {
    "colab": {
     "base_uri": "https://localhost:8080/",
     "height": 573
    },
    "id": "AW_W2s_tuQsD",
    "outputId": "86a5d31e-43e4-4992-ed87-1f6917f02b5e"
   },
   "outputs": [
    {
     "data": {
      "image/png": "[encoded data removed]",
      "text/plain": [
       "<Figure size 432x288 with 1 Axes>"
      ]
     },
     "metadata": {
      "needs_background": "light"
     },
     "output_type": "display_data"
    },
    {
     "data": {
      "image/png": "[encoded data removed]",
      "text/plain": [
       "<Figure size 432x288 with 1 Axes>"
      ]
     },
     "metadata": {
      "needs_background": "light"
     },
     "output_type": "display_data"
    }
   ],
   "source": [
    "visualizeTrainResults(trainHistory)"
   ]
  },
  {
   "cell_type": "code",
   "execution_count": 16,
   "metadata": {
    "colab": {
     "base_uri": "https://localhost:8080/"
    },
    "id": "j96uPaTsuby9",
    "outputId": "260b8dd7-a11e-4a73-9676-1627d76c4056"
   },
   "outputs": [
    {
     "name": "stdout",
     "output_type": "stream",
     "text": [
      "WARNING:tensorflow:Layer lstm will not use cuDNN kernels since it doesn't meet the criteria. It will use a generic GPU kernel as fallback when running on GPU.\n"
     ]
    },
    {
     "name": "stderr",
     "output_type": "stream",
     "text": [
      "WARNING:tensorflow:Layer lstm will not use cuDNN kernels since it doesn't meet the criteria. It will use a generic GPU kernel as fallback when running on GPU.\n"
     ]
    },
    {
     "name": "stdout",
     "output_type": "stream",
     "text": [
      "WARNING:tensorflow:Layer lstm_1 will not use cuDNN kernels since it doesn't meet the criteria. It will use a generic GPU kernel as fallback when running on GPU.\n"
     ]
    },
    {
     "name": "stderr",
     "output_type": "stream",
     "text": [
      "WARNING:tensorflow:Layer lstm_1 will not use cuDNN kernels since it doesn't meet the criteria. It will use a generic GPU kernel as fallback when running on GPU.\n"
     ]
    }
   ],
   "source": [
    "model = keras.models.load_model('/content/drive/My Drive/bestModelWithoutYOLO_MO')"
   ]
  },
  {
   "cell_type": "code",
   "execution_count": 17,
   "metadata": {
    "id": "fcxlweKgubuD"
   },
   "outputs": [],
   "source": [
    "predictions= binaryPredictions(model,X_test)"
   ]
  },
  {
   "cell_type": "code",
   "execution_count": 18,
   "metadata": {
    "colab": {
     "base_uri": "https://localhost:8080/"
    },
    "id": "DutmgTzJubnM",
    "outputId": "c416856f-5842-4ce2-b65a-9ac5a779f42f"
   },
   "outputs": [
    {
     "name": "stdout",
     "output_type": "stream",
     "text": [
      "True Positive :  43\n",
      "False Positive :  402\n",
      "False Negative :  2725\n",
      "True Negative :  23803\n"
     ]
    }
   ],
   "source": [
    "tn, fp, fn, tp = confusion_matrix(y_test, predictions).ravel()\n",
    "print(\"True Positive : \",tp)\n",
    "print(\"False Positive : \",fp)\n",
    "print(\"False Negative : \",fn)\n",
    "print(\"True Negative : \",tn)"
   ]
  },
  {
   "cell_type": "code",
   "execution_count": 19,
   "metadata": {
    "colab": {
     "base_uri": "https://localhost:8080/"
    },
    "id": "961G2grPujsC",
    "outputId": "77007643-0b2b-4f76-b614-37aa2474ed44"
   },
   "outputs": [
    {
     "name": "stdout",
     "output_type": "stream",
     "text": [
      "Accuracy Rate :  0.8840692544396248\n",
      "True Positive Rate :  0.015534682080924855\n",
      "Error Rate :  0.11593074556037519\n",
      "True Negative Rate :  0.9833918611857054\n",
      "F1 Score:  0.8448144330946031\n"
     ]
    }
   ],
   "source": [
    "truePositiveRate = tp/(tp+fn)\n",
    "accuracyRate = (tp+tn) / (tp+tn+fp+fn)\n",
    "misclassificationRate = (fp+fn) / (fp+fn+tp+tn)\n",
    "trueNegativeRate = tn / (tn+fp)\n",
    "f1 = f1_score(y_test, predictions, average='weighted') \n",
    "\n",
    "print(\"Accuracy Rate : \",accuracyRate)\n",
    "print(\"True Positive Rate : \",truePositiveRate)\n",
    "print(\"Error Rate : \",misclassificationRate)\n",
    "print(\"True Negative Rate : \",trueNegativeRate)\n",
    "print(\"F1 Score: \", f1)"
   ]
  },
  {
   "cell_type": "markdown",
   "metadata": {
    "id": "dVd088eh0vbq"
   },
   "source": [
    "## Dataset WithYOLO and Magnitude * Orientation Optical Flow"
   ]
  },
  {
   "cell_type": "code",
   "execution_count": 10,
   "metadata": {
    "colab": {
     "base_uri": "https://localhost:8080/"
    },
    "id": "NcO2vqt60xLZ",
    "outputId": "3cd89778-e1e2-489f-a941-a04bbe947053"
   },
   "outputs": [
    {
     "name": "stdout",
     "output_type": "stream",
     "text": [
      "Dataset Shape: (70000, 5, 4099)\n",
      "Labels Shape: (70000,)\n"
     ]
    }
   ],
   "source": [
    "dataset , labels = loadDatasetAndLabels(\"/content/drive/My Drive/CarCrashDatasetWithOpticalFlowAndYOLO/DatasetWithYOLO_MO/finaldataset_last_small.npz\",\"/content/drive/My Drive/finalLabels.npz\",True)\n",
    "print(\"Dataset Shape:\",dataset.shape)\n",
    "print(\"Labels Shape:\",labels.shape)"
   ]
  },
  {
   "cell_type": "code",
   "execution_count": 11,
   "metadata": {
    "colab": {
     "base_uri": "https://localhost:8080/"
    },
    "id": "E1qbt5250w7a",
    "outputId": "5ad31e87-f229-4a42-e823-d6bc0e9ae46e"
   },
   "outputs": [
    {
     "name": "stdout",
     "output_type": "stream",
     "text": [
      "Dataset Shape: (69909, 5, 4099)\n",
      "Labels Shape: (69909,)\n"
     ]
    }
   ],
   "source": [
    "dataset , labels = findAndDropNA(dataset,labels)\n",
    "print(\"Dataset Shape:\",dataset.shape)\n",
    "print(\"Labels Shape:\",labels.shape)"
   ]
  },
  {
   "cell_type": "code",
   "execution_count": 12,
   "metadata": {
    "id": "PQPugYs-0w1q"
   },
   "outputs": [],
   "source": [
    "dataset = normalizeDataset(dataset,True)"
   ]
  },
  {
   "cell_type": "code",
   "execution_count": 13,
   "metadata": {
    "id": "IwGS587i0wyh"
   },
   "outputs": [],
   "source": [
    "X_train, X_test, y_train, y_test = train_test_split(dataset, labels, test_size=0.3, random_state=42)\n",
    "del dataset\n",
    "del labels"
   ]
  },
  {
   "cell_type": "code",
   "execution_count": 14,
   "metadata": {
    "colab": {
     "base_uri": "https://localhost:8080/"
    },
    "id": "ho5eyFUJ0wvO",
    "outputId": "53bb38a8-a28c-4df8-bd38-137b037ef8c0"
   },
   "outputs": [
    {
     "name": "stdout",
     "output_type": "stream",
     "text": [
      "Train Size (48936, 5, 4099)\n",
      "Test Size (20973, 5, 4099)\n",
      "Train Label Size (48936,)\n",
      "Test Label Size (20973,)\n"
     ]
    }
   ],
   "source": [
    "print(\"Train Size\",X_train.shape)\n",
    "print(\"Test Size\",X_test.shape)\n",
    "print(\"Train Label Size\",y_train.shape)\n",
    "print(\"Test Label Size\",y_test.shape)"
   ]
  },
  {
   "cell_type": "code",
   "execution_count": 17,
   "metadata": {
    "colab": {
     "base_uri": "https://localhost:8080/"
    },
    "id": "fhhcn_Hq0wr_",
    "outputId": "483ae071-9e7b-439c-893d-6f2a4dd0d24b"
   },
   "outputs": [
    {
     "name": "stdout",
     "output_type": "stream",
     "text": [
      "Epoch 1/30\n",
      "536/536 [==============================] - 32s 39ms/step - loss: 0.6915 - accuracy: 0.5746 - val_loss: 0.6881 - val_accuracy: 0.6339\n",
      "Epoch 2/30\n",
      "536/536 [==============================] - 18s 33ms/step - loss: 0.6895 - accuracy: 0.6078 - val_loss: 0.6847 - val_accuracy: 0.6797\n",
      "Epoch 3/30\n",
      "536/536 [==============================] - 18s 33ms/step - loss: 0.6876 - accuracy: 0.6328 - val_loss: 0.6824 - val_accuracy: 0.7098\n",
      "Epoch 4/30\n",
      "536/536 [==============================] - 18s 33ms/step - loss: 0.6856 - accuracy: 0.6631 - val_loss: 0.6805 - val_accuracy: 0.7326\n",
      "Epoch 5/30\n",
      "536/536 [==============================] - 18s 33ms/step - loss: 0.6838 - accuracy: 0.6844 - val_loss: 0.6791 - val_accuracy: 0.7571\n",
      "Epoch 6/30\n",
      "536/536 [==============================] - 18s 33ms/step - loss: 0.6821 - accuracy: 0.7050 - val_loss: 0.6772 - val_accuracy: 0.7930\n",
      "Epoch 7/30\n",
      "536/536 [==============================] - 18s 33ms/step - loss: 0.6804 - accuracy: 0.7262 - val_loss: 0.6767 - val_accuracy: 0.8123\n",
      "Epoch 8/30\n",
      "536/536 [==============================] - 18s 33ms/step - loss: 0.6788 - accuracy: 0.7390 - val_loss: 0.6737 - val_accuracy: 0.8064\n",
      "Epoch 9/30\n",
      "536/536 [==============================] - 18s 34ms/step - loss: 0.6770 - accuracy: 0.7545 - val_loss: 0.6718 - val_accuracy: 0.8197\n",
      "Epoch 10/30\n",
      "536/536 [==============================] - 19s 35ms/step - loss: 0.6754 - accuracy: 0.7656 - val_loss: 0.6702 - val_accuracy: 0.8343\n",
      "Epoch 11/30\n",
      "536/536 [==============================] - 19s 35ms/step - loss: 0.6739 - accuracy: 0.7754 - val_loss: 0.6686 - val_accuracy: 0.8339\n",
      "Epoch 12/30\n",
      "536/536 [==============================] - 19s 35ms/step - loss: 0.6721 - accuracy: 0.7850 - val_loss: 0.6662 - val_accuracy: 0.8452\n",
      "Epoch 13/30\n",
      "536/536 [==============================] - 19s 35ms/step - loss: 0.6703 - accuracy: 0.7962 - val_loss: 0.6637 - val_accuracy: 0.8540\n",
      "Epoch 14/30\n",
      "536/536 [==============================] - 19s 35ms/step - loss: 0.6686 - accuracy: 0.8047 - val_loss: 0.6627 - val_accuracy: 0.8511\n",
      "Epoch 15/30\n",
      "536/536 [==============================] - 18s 33ms/step - loss: 0.6669 - accuracy: 0.8111 - val_loss: 0.6595 - val_accuracy: 0.8735\n",
      "Epoch 16/30\n",
      "536/536 [==============================] - 18s 34ms/step - loss: 0.6653 - accuracy: 0.8181 - val_loss: 0.6591 - val_accuracy: 0.8671\n",
      "Epoch 17/30\n",
      "536/536 [==============================] - 18s 33ms/step - loss: 0.6636 - accuracy: 0.8237 - val_loss: 0.6570 - val_accuracy: 0.8648\n",
      "Epoch 18/30\n",
      "536/536 [==============================] - 17s 32ms/step - loss: 0.6621 - accuracy: 0.8289 - val_loss: 0.6545 - val_accuracy: 0.8699\n",
      "Epoch 19/30\n",
      "536/536 [==============================] - 17s 31ms/step - loss: 0.6603 - accuracy: 0.8338 - val_loss: 0.6530 - val_accuracy: 0.8679\n",
      "Epoch 20/30\n",
      "536/536 [==============================] - 17s 31ms/step - loss: 0.6584 - accuracy: 0.8384 - val_loss: 0.6512 - val_accuracy: 0.8764\n",
      "Epoch 21/30\n",
      "536/536 [==============================] - 18s 33ms/step - loss: 0.6568 - accuracy: 0.8436 - val_loss: 0.6502 - val_accuracy: 0.8766\n",
      "Epoch 22/30\n",
      "536/536 [==============================] - 17s 31ms/step - loss: 0.6552 - accuracy: 0.8481 - val_loss: 0.6474 - val_accuracy: 0.8735\n",
      "Epoch 23/30\n",
      "536/536 [==============================] - 16s 31ms/step - loss: 0.6537 - accuracy: 0.8526 - val_loss: 0.6464 - val_accuracy: 0.8808\n",
      "Epoch 24/30\n",
      "536/536 [==============================] - 17s 31ms/step - loss: 0.6518 - accuracy: 0.8530 - val_loss: 0.6441 - val_accuracy: 0.8799\n",
      "Epoch 25/30\n",
      "536/536 [==============================] - 17s 32ms/step - loss: 0.6504 - accuracy: 0.8566 - val_loss: 0.6418 - val_accuracy: 0.8809\n",
      "Epoch 26/30\n",
      "536/536 [==============================] - 17s 31ms/step - loss: 0.6487 - accuracy: 0.8587 - val_loss: 0.6419 - val_accuracy: 0.8819\n",
      "Epoch 27/30\n",
      "536/536 [==============================] - 17s 31ms/step - loss: 0.6472 - accuracy: 0.8621 - val_loss: 0.6387 - val_accuracy: 0.8822\n",
      "Epoch 28/30\n",
      "536/536 [==============================] - 17s 31ms/step - loss: 0.6454 - accuracy: 0.8631 - val_loss: 0.6376 - val_accuracy: 0.8813\n",
      "Epoch 29/30\n",
      "536/536 [==============================] - 18s 33ms/step - loss: 0.6442 - accuracy: 0.8648 - val_loss: 0.6367 - val_accuracy: 0.8815\n",
      "Epoch 30/30\n",
      "536/536 [==============================] - 17s 33ms/step - loss: 0.6428 - accuracy: 0.8675 - val_loss: 0.6342 - val_accuracy: 0.8833\n"
     ]
    },
    {
     "name": "stderr",
     "output_type": "stream",
     "text": [
      "WARNING:absl:Found untraced functions such as lstm_cell_2_layer_call_fn, lstm_cell_2_layer_call_and_return_conditional_losses while saving (showing 2 of 2). These functions will not be directly callable after loading.\n"
     ]
    },
    {
     "name": "stdout",
     "output_type": "stream",
     "text": [
      "INFO:tensorflow:Assets written to: /content/drive/My Drive/bestModelWithYOLO_MO/assets\n"
     ]
    },
    {
     "name": "stderr",
     "output_type": "stream",
     "text": [
      "INFO:tensorflow:Assets written to: /content/drive/My Drive/bestModelWithYOLO_MO/assets\n",
      "WARNING:absl:<keras.layers.recurrent.LSTMCell object at 0x7f2bd6f6a490> has the same name 'LSTMCell' as a built-in Keras object. Consider renaming <class 'keras.layers.recurrent.LSTMCell'> to avoid naming conflicts when loading with `tf.keras.models.load_model`. If renaming is not possible, pass the object in the `custom_objects` parameter of the load function.\n",
      "WARNING:absl:<keras.layers.recurrent.LSTMCell object at 0x7f2b58631d50> has the same name 'LSTMCell' as a built-in Keras object. Consider renaming <class 'keras.layers.recurrent.LSTMCell'> to avoid naming conflicts when loading with `tf.keras.models.load_model`. If renaming is not possible, pass the object in the `custom_objects` parameter of the load function.\n",
      "WARNING:absl:<keras.layers.recurrent.LSTMCell object at 0x7f2b58641790> has the same name 'LSTMCell' as a built-in Keras object. Consider renaming <class 'keras.layers.recurrent.LSTMCell'> to avoid naming conflicts when loading with `tf.keras.models.load_model`. If renaming is not possible, pass the object in the `custom_objects` parameter of the load function.\n"
     ]
    }
   ],
   "source": [
    "trainHistory = regressor.fit(x = X_train , y = y_train, batch_size=64,epochs=30,shuffle=True,validation_split=0.3)\n",
    "regressor.save(\"/content/drive/My Drive/bestModelWithYOLO_MO\")"
   ]
  },
  {
   "cell_type": "code",
   "execution_count": 18,
   "metadata": {
    "colab": {
     "base_uri": "https://localhost:8080/",
     "height": 573
    },
    "id": "2jCMkKM10wpB",
    "outputId": "5755211e-847f-4ed5-8892-5a67d68186a3"
   },
   "outputs": [
    {
     "data": {
      "image/png": "[encoded data removed]",
      "text/plain": [
       "<Figure size 432x288 with 1 Axes>"
      ]
     },
     "metadata": {
      "needs_background": "light"
     },
     "output_type": "display_data"
    },
    {
     "data": {
      "image/png": "[encoded data removed]",
      "text/plain": [
       "<Figure size 432x288 with 1 Axes>"
      ]
     },
     "metadata": {
      "needs_background": "light"
     },
     "output_type": "display_data"
    }
   ],
   "source": [
    "visualizeTrainResults(trainHistory)"
   ]
  },
  {
   "cell_type": "code",
   "execution_count": 19,
   "metadata": {
    "colab": {
     "base_uri": "https://localhost:8080/"
    },
    "id": "67OD0OVQ0wmJ",
    "outputId": "f8b450aa-3453-4b7c-d278-28172abb4fc2"
   },
   "outputs": [
    {
     "name": "stdout",
     "output_type": "stream",
     "text": [
      "WARNING:tensorflow:Layer lstm will not use cuDNN kernels since it doesn't meet the criteria. It will use a generic GPU kernel as fallback when running on GPU.\n"
     ]
    },
    {
     "name": "stderr",
     "output_type": "stream",
     "text": [
      "WARNING:tensorflow:Layer lstm will not use cuDNN kernels since it doesn't meet the criteria. It will use a generic GPU kernel as fallback when running on GPU.\n"
     ]
    },
    {
     "name": "stdout",
     "output_type": "stream",
     "text": [
      "WARNING:tensorflow:Layer lstm_1 will not use cuDNN kernels since it doesn't meet the criteria. It will use a generic GPU kernel as fallback when running on GPU.\n"
     ]
    },
    {
     "name": "stderr",
     "output_type": "stream",
     "text": [
      "WARNING:tensorflow:Layer lstm_1 will not use cuDNN kernels since it doesn't meet the criteria. It will use a generic GPU kernel as fallback when running on GPU.\n"
     ]
    }
   ],
   "source": [
    "model = keras.models.load_model('/content/drive/My Drive/bestModelWithYOLO_MO')"
   ]
  },
  {
   "cell_type": "code",
   "execution_count": 20,
   "metadata": {
    "id": "ulgm2Op10wjH"
   },
   "outputs": [],
   "source": [
    "predictions= binaryPredictions(model,X_test)"
   ]
  },
  {
   "cell_type": "code",
   "execution_count": 28,
   "metadata": {
    "colab": {
     "base_uri": "https://localhost:8080/"
    },
    "id": "zX2lNIBF0wf1",
    "outputId": "fc0e530f-7844-4d3e-fad1-b3ed56d5ecd4"
   },
   "outputs": [
    {
     "name": "stdout",
     "output_type": "stream",
     "text": [
      "True Positive :  13\n",
      "False Positive :  198\n",
      "False Negative :  2344\n",
      "True Negative :  18418\n"
     ]
    }
   ],
   "source": [
    "tn, fp, fn, tp = confusion_matrix(y_test, predictions).ravel()\n",
    "print(\"True Positive : \",tp)\n",
    "print(\"False Positive : \",fp)\n",
    "print(\"False Negative : \",fn)\n",
    "print(\"True Negative : \",tn)"
   ]
  },
  {
   "cell_type": "code",
   "execution_count": 20,
   "metadata": {
    "colab": {
     "base_uri": "https://localhost:8080/"
    },
    "id": "ulrofj8N0wc5",
    "outputId": "bd098478-f085-416c-9e2a-9bf61d06279d"
   },
   "outputs": [
    {
     "name": "stdout",
     "output_type": "stream",
     "text": [
      "Accuracy Rate :  0.8787965479425929\n",
      "True Positive Rate :  0.005515485787017395\n",
      "Error Rate :  0.12120345205740714\n",
      "True Negative Rate :  0.98936399\n",
      "F1 Score:  0.8314561553996861\n"
     ]
    }
   ],
   "source": [
    "truePositiveRate = tp/(tp+fn)\n",
    "accuracyRate = (tp+tn) / (tp+tn+fp+fn)\n",
    "misclassificationRate = (fp+fn) / (fp+fn+tp+tn)\n",
    "trueNegativeRate = tn / (tn+fp)\n",
    "f1 = f1_score(y_test, predictions, average='weighted') \n",
    "\n",
    "print(\"Accuracy Rate : \",accuracyRate)\n",
    "print(\"True Positive Rate : \",truePositiveRate)\n",
    "print(\"Error Rate : \",misclassificationRate)\n",
    "print(\"True Negative Rate : \",trueNegativeRate)\n",
    "print(\"F1 Score: \", f1)"
   ]
  }
 ],
 "metadata": {
  "accelerator": "GPU",
  "colab": {
   "collapsed_sections": [],
   "machine_shape": "hm",
   "name": "CarCrashDetection.ipynb",
   "provenance": []
  },
  "kernelspec": {
   "display_name": "Python 3",
   "language": "python",
   "name": "python3"
  },
  "language_info": {
   "codemirror_mode": {
    "name": "ipython",
    "version": 3
   },
   "file_extension": ".py",
   "mimetype": "text/x-python",
   "name": "python",
   "nbconvert_exporter": "python",
   "pygments_lexer": "ipython3",
   "version": "3.8.8"
  }
 },
 "nbformat": 4,
 "nbformat_minor": 1
}
